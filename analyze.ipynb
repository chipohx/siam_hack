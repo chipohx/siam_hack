{
 "cells": [
  {
   "cell_type": "code",
   "id": "initial_id",
   "metadata": {
    "collapsed": true
   },
   "source": "import pandas as pd",
   "outputs": [],
   "execution_count": null
  },
  {
   "metadata": {},
   "cell_type": "code",
   "source": "bq_data_csv = pd.read_csv(\"markup_train.csv\")",
   "id": "9b9519f393054d62",
   "outputs": [],
   "execution_count": null
  },
  {
   "metadata": {},
   "cell_type": "code",
   "source": "bq_data_csv.columns",
   "id": "9156da449ee0dd7f",
   "outputs": [],
   "execution_count": null
  },
  {
   "metadata": {},
   "cell_type": "code",
   "source": "bq_data_csv.groupby('Некачественное ГДИС').count()",
   "id": "de6ef7f7f7e895da",
   "outputs": [],
   "execution_count": null
  },
  {
   "metadata": {},
   "cell_type": "code",
   "source": [
    "import matplotlib.pyplot as plt\n",
    "\n",
    "good_quality_data = bq_data_csv[bq_data_csv[\"Некачественное ГДИС\"] == 0]\n",
    "bad_quality_data = bq_data_csv[bq_data_csv[\"Некачественное ГДИС\"] == 1]\n",
    "\n",
    "columns = [\n",
    "       'Влияние ствола скважины', 'Радиальный режим', 'Линейный режим',\n",
    "       'Билинейный режим', 'Сферический режим', 'Граница постоянного давления',\n",
    "       'Граница непроницаемый разлом'\n",
    "]\n",
    "\n",
    "fig, axes = plt.subplots(nrows=len(columns), ncols=2, figsize=(15, 5 * len(columns)))\n",
    "\n",
    "for i, column in enumerate(columns):\n",
    "    # Гистограмма для good_quality_data\n",
    "    axes[i, 0].hist(good_quality_data[column], bins=30, color='blue', alpha=0.7, label='Good Quality')\n",
    "    axes[i, 0].set_title(f'{column} (Кач. ГДИС)')\n",
    "    axes[i, 0].legend()\n",
    "\n",
    "    # Гистограмма для bad_quality_data\n",
    "    axes[i, 1].hist(bad_quality_data[column], bins=30, color='red', alpha=0.7, label='Bad Quality')\n",
    "    axes[i, 1].set_title(f'{column} (Некач. ГДИС)')\n",
    "    axes[i, 1].legend()\n",
    "\n",
    "plt.tight_layout()"
   ],
   "id": "b3b9857ec28adbcd",
   "outputs": [],
   "execution_count": null
  },
  {
   "metadata": {},
   "cell_type": "code",
   "source": "",
   "id": "eef8476767b08b3",
   "outputs": [],
   "execution_count": null
  }
 ],
 "metadata": {
  "kernelspec": {
   "display_name": "Python 3",
   "language": "python",
   "name": "python3"
  },
  "language_info": {
   "codemirror_mode": {
    "name": "ipython",
    "version": 2
   },
   "file_extension": ".py",
   "mimetype": "text/x-python",
   "name": "python",
   "nbconvert_exporter": "python",
   "pygments_lexer": "ipython2",
   "version": "2.7.6"
  }
 },
 "nbformat": 4,
 "nbformat_minor": 5
}
