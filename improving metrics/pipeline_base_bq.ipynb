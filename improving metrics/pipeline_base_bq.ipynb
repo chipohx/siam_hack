{
 "cells": [
  {
   "metadata": {
    "ExecuteTime": {
     "end_time": "2025-03-05T18:15:21.092908Z",
     "start_time": "2025-03-05T18:15:21.089593Z"
    }
   },
   "cell_type": "code",
   "source": [
    "import warnings\n",
    "warnings.filterwarnings('ignore')"
   ],
   "id": "2ca03d5003c5ce9",
   "outputs": [],
   "execution_count": 9
  },
  {
   "metadata": {
    "ExecuteTime": {
     "end_time": "2025-03-05T18:15:21.115727Z",
     "start_time": "2025-03-05T18:15:21.109627Z"
    }
   },
   "cell_type": "code",
   "source": [
    "import numpy as np\n",
    "import pandas as pd\n",
    "from scipy.integrate import trapezoid\n",
    "from scipy.stats import linregress\n",
    "from sklearn.model_selection import train_test_split\n",
    "from sklearn.ensemble import RandomForestRegressor, RandomForestClassifier\n",
    "from sklearn.metrics import (\n",
    "    accuracy_score, balanced_accuracy_score,\n",
    "    root_mean_squared_error, mean_absolute_percentage_error\n",
    ")\n",
    "\n",
    "DATA_FOLDER_PATH = '../data' # фолдер с временными рядами\n"
   ],
   "id": "86a1c1f81a935f6a",
   "outputs": [],
   "execution_count": 10
  },
  {
   "metadata": {
    "ExecuteTime": {
     "end_time": "2025-03-05T18:15:21.184988Z",
     "start_time": "2025-03-05T18:15:21.169705Z"
    }
   },
   "cell_type": "code",
   "source": [
    "def load_data(data_path: str):\n",
    "    \"\"\"Загрузка данных из CSV файла.\"\"\"\n",
    "    return pd.read_csv(data_path)"
   ],
   "id": "be92fe63e1560054",
   "outputs": [],
   "execution_count": 11
  },
  {
   "metadata": {
    "ExecuteTime": {
     "end_time": "2025-03-05T18:15:21.222044Z",
     "start_time": "2025-03-05T18:15:21.200568Z"
    }
   },
   "cell_type": "code",
   "source": [
    "def preprocess_data(work_file):\n",
    "    \"\"\"Предобработка данных: удаление пустых или отсутствующих файлов.\"\"\"\n",
    "    if 'file_name' not in work_file.columns:\n",
    "        raise ValueError(\"Столбец 'file_name' отсутствует в данных.\")\n",
    "    indices_to_drop = []\n",
    "    for index, file_name in enumerate(work_file['file_name']):\n",
    "        try:\n",
    "            txt_file = pd.read_csv(f'{DATA_FOLDER_PATH}/{file_name}', delimiter='\\t', names=['t', 'delta_p', 'dp'])\n",
    "            if txt_file.empty:\n",
    "                indices_to_drop.append(index)\n",
    "        except (FileNotFoundError, pd.errors.EmptyDataError):\n",
    "            indices_to_drop.append(index)\n",
    "    return work_file.drop(indices_to_drop).reset_index(drop=True)"
   ],
   "id": "f75bdd76c77a9e0a",
   "outputs": [],
   "execution_count": 12
  },
  {
   "metadata": {
    "ExecuteTime": {
     "end_time": "2025-03-05T18:15:21.249316Z",
     "start_time": "2025-03-05T18:15:21.239088Z"
    }
   },
   "cell_type": "code",
   "source": [
    "def calculate_base_stats(data):\n",
    "    \n",
    "        peak_idx = data[\"dP\"].idxmax()\n",
    "        file_stats = {\n",
    "        'max_deltaP': data['deltaP'].max(),\n",
    "        'min_deltaP': data['deltaP'].min(),\n",
    "        'max_dP': data['dP'].max(),\n",
    "        'min_dP': data['dP'].min(),\n",
    "        'mean_deltaP': data['deltaP'].mean(),\n",
    "        'mean_dP': data['dP'].mean(),\n",
    "        'std_dP': data['dP'].std(),\n",
    "        'peak_time': data.loc[peak_idx, 't'],\n",
    "        'slope_dP_before_peak': linregress(data['t'][:peak_idx + 1], data[\"dP\"][:peak_idx + 1])[0],\n",
    "        'slope_dP_after_peak': linregress(data['t'][peak_idx:], data[\"dP\"][peak_idx:])[0],\n",
    "        'integral_dP': trapezoid(data[\"dP\"], data['t'])\n",
    "    }\n",
    "        return file_stats"
   ],
   "id": "261881cb047e1662",
   "outputs": [],
   "execution_count": 13
  },
  {
   "metadata": {
    "ExecuteTime": {
     "end_time": "2025-03-05T18:15:21.275300Z",
     "start_time": "2025-03-05T18:15:21.269120Z"
    }
   },
   "cell_type": "code",
   "source": [
    "def calculate_file_stats(dataframe):\n",
    "    \"\"\"Вычисление статистик для файлов.\"\"\"\n",
    "    stats = []\n",
    "    for file_name in dataframe['file_name']:\n",
    "        data = pd.read_csv(f'{DATA_FOLDER_PATH}/{file_name}', delimiter='\\t', names=['t', 'deltaP', 'dP'])\n",
    "        \n",
    "        # Базовые статистики\n",
    "        file_stats = {'file_name': file_name}\n",
    "        file_stats.update(calculate_base_stats(data))\n",
    "        \n",
    "        # Добавляем словарь в список\n",
    "        stats.append(file_stats)\n",
    "    \n",
    "    return pd.DataFrame(stats)"
   ],
   "id": "bdfa298e18710d74",
   "outputs": [],
   "execution_count": 14
  },
  {
   "cell_type": "code",
   "id": "initial_id",
   "metadata": {
    "collapsed": true,
    "ExecuteTime": {
     "end_time": "2025-03-05T18:15:21.308723Z",
     "start_time": "2025-03-05T18:15:21.296258Z"
    }
   },
   "source": [
    "def train_pipeline(data_path, binary_target, numeric_target):\n",
    "    \"\"\"Обучение моделей для бинарного и числового признаков.\"\"\"\n",
    "    data_csv = load_data(data_path)\n",
    "    work_file = preprocess_data(data_csv)\n",
    "    stats_by_file = calculate_file_stats(work_file)\n",
    "\n",
    "    # таргеты\n",
    "    stats_by_file[binary_target] = work_file[binary_target]\n",
    "    stats_by_file[numeric_target] = work_file[numeric_target]\n",
    "\n",
    "    # треним классификатора\n",
    "    X_clf = stats_by_file.drop(columns=[binary_target, numeric_target, 'file_name'])\n",
    "    y_clf = stats_by_file[binary_target]\n",
    "    X_train_clf, X_test_clf, y_train_clf, y_test_clf = train_test_split(X_clf, y_clf, test_size=0.2, random_state=42)\n",
    "\n",
    "    clf_model = RandomForestClassifier(random_state=42, max_depth=5, n_jobs=-1, class_weight='balanced', n_estimators=300, min_samples_split=5, min_samples_leaf=4)\n",
    "    clf_model.fit(X_train_clf, y_train_clf)\n",
    "\n",
    "    clf_metrics = {'train_accuracy': accuracy_score(y_train_clf, clf_model.predict(X_train_clf)),\n",
    "    'test_accuracy': accuracy_score(y_test_clf, clf_model.predict(X_test_clf)),\n",
    "    'train_b_accuracy': balanced_accuracy_score(y_train_clf, clf_model.predict(X_train_clf)),\n",
    "    'test_b_accuracy': balanced_accuracy_score(y_test_clf, clf_model.predict(X_test_clf)),\n",
    "    # 'feature_importances': dict(zip(X_train_clf.columns, clf_model.feature_importances_))\n",
    "                   }\n",
    "\n",
    "    # треним регрессора\n",
    "    regression_data = stats_by_file[stats_by_file[binary_target] == 1]\n",
    "    X_reg = regression_data.drop(columns=[binary_target, numeric_target, 'file_name'])\n",
    "    y_reg = regression_data[numeric_target]\n",
    "\n",
    "    reg_model = RandomForestRegressor(random_state=42, max_depth=5, n_jobs=-1)\n",
    "    if not X_reg.empty:\n",
    "        X_train_reg, X_test_reg, y_train_reg, y_test_reg = train_test_split(X_reg, y_reg, test_size=0.2,\n",
    "                                                                            random_state=42)\n",
    "        reg_model.fit(X_train_reg, y_train_reg)\n",
    "        \n",
    "        reg_metrics = {\n",
    "        'train_rmse': root_mean_squared_error(y_train_reg, reg_model.predict(X_train_reg)),\n",
    "        'test_rmse': root_mean_squared_error(y_test_reg, reg_model.predict(X_test_reg)),\n",
    "        'train_mape': mean_absolute_percentage_error(y_train_reg, reg_model.predict(X_train_reg)),\n",
    "        'test_mape': mean_absolute_percentage_error(y_test_reg, reg_model.predict(X_test_reg)),\n",
    "    }\n",
    "    else:\n",
    "        reg_model = None\n",
    "\n",
    "    return {\n",
    "        'binary_model': clf_model,\n",
    "        'regression_model': reg_model,\n",
    "        'stats_columns': X_clf.columns.tolist(),\n",
    "        'clf_metrics': clf_metrics,\n",
    "        'reg_metrics': reg_metrics\n",
    "    }"
   ],
   "outputs": [],
   "execution_count": 15
  },
  {
   "metadata": {
    "ExecuteTime": {
     "end_time": "2025-03-05T18:15:24.792213Z",
     "start_time": "2025-03-05T18:15:21.325847Z"
    }
   },
   "cell_type": "code",
   "source": [
    "DATA_PATH = 'hq_markup_train.csv'\n",
    "BINARY_TARGET = 'Некачественное ГДИС'\n",
    "NUMERIC_TARGET = 'Некачественное ГДИС'\n",
    "\n",
    "models = train_pipeline(DATA_PATH, BINARY_TARGET, NUMERIC_TARGET)\n",
    "\n",
    "# predictions = predict_pipeline(models, DATA_PATH, BINARY_TARGET, NUMERIC_TARGET)"
   ],
   "id": "1ddda7f081748a15",
   "outputs": [],
   "execution_count": 16
  },
  {
   "metadata": {
    "ExecuteTime": {
     "end_time": "2025-03-05T18:15:24.822463Z",
     "start_time": "2025-03-05T18:15:24.810392Z"
    }
   },
   "cell_type": "code",
   "source": "models['clf_metrics']",
   "id": "b70123a418de8867",
   "outputs": [
    {
     "data": {
      "text/plain": [
       "{'train_accuracy': 0.965,\n",
       " 'test_accuracy': 0.81,\n",
       " 'train_b_accuracy': np.float64(0.945021645021645),\n",
       " 'test_b_accuracy': np.float64(0.7064941653982749)}"
      ]
     },
     "execution_count": 17,
     "metadata": {},
     "output_type": "execute_result"
    }
   ],
   "execution_count": 17
  },
  {
   "metadata": {
    "ExecuteTime": {
     "end_time": "2025-03-05T18:15:24.921472Z",
     "start_time": "2025-03-05T18:15:24.915453Z"
    }
   },
   "cell_type": "code",
   "source": "models['reg_metrics']",
   "id": "85284aee55d981f1",
   "outputs": [
    {
     "data": {
      "text/plain": [
       "{'train_rmse': 0.0, 'test_rmse': 0.0, 'train_mape': 0.0, 'test_mape': 0.0}"
      ]
     },
     "execution_count": 18,
     "metadata": {},
     "output_type": "execute_result"
    }
   ],
   "execution_count": 18
  }
 ],
 "metadata": {
  "kernelspec": {
   "display_name": "Python 3",
   "language": "python",
   "name": "python3"
  },
  "language_info": {
   "codemirror_mode": {
    "name": "ipython",
    "version": 2
   },
   "file_extension": ".py",
   "mimetype": "text/x-python",
   "name": "python",
   "nbconvert_exporter": "python",
   "pygments_lexer": "ipython2",
   "version": "2.7.6"
  }
 },
 "nbformat": 4,
 "nbformat_minor": 5
}
