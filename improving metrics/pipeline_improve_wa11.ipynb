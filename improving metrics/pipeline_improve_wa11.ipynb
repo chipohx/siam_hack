{
 "cells": [
  {
   "metadata": {
    "ExecuteTime": {
     "end_time": "2025-03-05T18:49:11.024815Z",
     "start_time": "2025-03-05T18:49:11.019987Z"
    }
   },
   "cell_type": "code",
   "source": [
    "import warnings\n",
    "warnings.filterwarnings('ignore')"
   ],
   "id": "2ca03d5003c5ce9",
   "outputs": [],
   "execution_count": 1
  },
  {
   "metadata": {
    "ExecuteTime": {
     "end_time": "2025-03-05T18:49:12.477159Z",
     "start_time": "2025-03-05T18:49:11.037742Z"
    }
   },
   "cell_type": "code",
   "source": [
    "import numpy as np\n",
    "import pandas as pd\n",
    "from scipy.integrate import trapezoid\n",
    "from scipy.stats import linregress\n",
    "from sklearn.model_selection import train_test_split\n",
    "from sklearn.ensemble import RandomForestRegressor, RandomForestClassifier\n",
    "from sklearn.metrics import (\n",
    "    accuracy_score, balanced_accuracy_score,\n",
    "    root_mean_squared_error, mean_absolute_percentage_error\n",
    ")\n",
    "\n",
    "DATA_FOLDER_PATH = '../data' # фолдер с временными рядами\n"
   ],
   "id": "86a1c1f81a935f6a",
   "outputs": [],
   "execution_count": 2
  },
  {
   "metadata": {
    "ExecuteTime": {
     "end_time": "2025-03-05T18:49:12.645539Z",
     "start_time": "2025-03-05T18:49:12.641420Z"
    }
   },
   "cell_type": "code",
   "source": [
    "def load_data(data_path: str):\n",
    "    \"\"\"Загрузка данных из CSV файла.\"\"\"\n",
    "    return pd.read_csv(data_path)"
   ],
   "id": "be92fe63e1560054",
   "outputs": [],
   "execution_count": 3
  },
  {
   "metadata": {
    "ExecuteTime": {
     "end_time": "2025-03-05T18:49:12.667990Z",
     "start_time": "2025-03-05T18:49:12.661174Z"
    }
   },
   "cell_type": "code",
   "source": [
    "def preprocess_data(work_file):\n",
    "    \"\"\"Предобработка данных: удаление пустых или отсутствующих файлов.\"\"\"\n",
    "    if 'file_name' not in work_file.columns:\n",
    "        raise ValueError(\"Столбец 'file_name' отсутствует в данных.\")\n",
    "    indices_to_drop = []\n",
    "    for index, file_name in enumerate(work_file['file_name']):\n",
    "        try:\n",
    "            txt_file = pd.read_csv(f'{DATA_FOLDER_PATH}/{file_name}', delimiter='\\t', names=['t', 'delta_p', 'dp'])\n",
    "            if txt_file.empty:\n",
    "                indices_to_drop.append(index)\n",
    "        except (FileNotFoundError, pd.errors.EmptyDataError):\n",
    "            indices_to_drop.append(index)\n",
    "    return work_file.drop(indices_to_drop).reset_index(drop=True)"
   ],
   "id": "f75bdd76c77a9e0a",
   "outputs": [],
   "execution_count": 4
  },
  {
   "metadata": {
    "ExecuteTime": {
     "end_time": "2025-03-05T18:49:12.686762Z",
     "start_time": "2025-03-05T18:49:12.680904Z"
    }
   },
   "cell_type": "code",
   "source": [
    "def calculate_base_stats(data):\n",
    "    \n",
    "        peak_idx = data[\"dP\"].idxmax()\n",
    "        file_stats = {\n",
    "        'max_deltaP': data['deltaP'].max(),\n",
    "        'min_deltaP': data['deltaP'].min(),\n",
    "        'max_dP': data['dP'].max(),\n",
    "        'min_dP': data['dP'].min(),\n",
    "        'mean_deltaP': data['deltaP'].mean(),\n",
    "        'mean_dP': data['dP'].mean(),\n",
    "        'std_dP': data['dP'].std(),\n",
    "        'peak_time': data.loc[peak_idx, 't'],\n",
    "        'slope_dP_before_peak': linregress(data['t'][:peak_idx + 1], data[\"dP\"][:peak_idx + 1])[0],\n",
    "        'slope_dP_after_peak': linregress(data['t'][peak_idx:], data[\"dP\"][peak_idx:])[0],\n",
    "        'integral_dP': trapezoid(data[\"dP\"], data['t'])\n",
    "    }\n",
    "        return file_stats"
   ],
   "id": "261881cb047e1662",
   "outputs": [],
   "execution_count": 5
  },
  {
   "metadata": {
    "ExecuteTime": {
     "end_time": "2025-03-05T18:49:12.707213Z",
     "start_time": "2025-03-05T18:49:12.699493Z"
    }
   },
   "cell_type": "code",
   "source": [
    "def calculate_clf_stats_for_wa(data):\n",
    "     # первые 20% данных как \"ранние времена\"\n",
    "    early_time_mask = data['t'] <= data['t'].quantile(0.2)\n",
    "    early_data = data[early_time_mask]\n",
    "\n",
    "    # Линейная регрессия для deltaP и dP на ранних временах\n",
    "    slope_deltaP, intercept_deltaP, *_ = linregress(early_data['t'], early_data['deltaP'])\n",
    "    slope_dP, intercept_dP, *_ = linregress(early_data['t'], early_data['dP'])\n",
    "    \n",
    "    # Признаки для классификации\n",
    "    vss_features = {\n",
    "        'vss_slope_deltaP': slope_deltaP,\n",
    "        'vss_slope_dP': slope_dP,\n",
    "        'vss_r2_deltaP': linregress(early_data['t'], early_data['deltaP']).rvalue**2,\n",
    "        'vss_early_points_ratio': len(early_data) / len(data),\n",
    "        'vss_slope_deviation': abs(slope_dP - 1.0),  # отклонение от k=1\n",
    "    }\n",
    "    return vss_features"
   ],
   "id": "19c365dd850b06b2",
   "outputs": [],
   "execution_count": 6
  },
  {
   "metadata": {
    "ExecuteTime": {
     "end_time": "2025-03-05T18:49:12.728273Z",
     "start_time": "2025-03-05T18:49:12.719762Z"
    }
   },
   "cell_type": "code",
   "source": [
    "def calculate_reg_stats_for_wa(data):\n",
    "     # 20% данных как \"ранние времена\"\n",
    "    early_time_mask = data['t'] <= data['t'].quantile(0.2)\n",
    "    early_data = data[early_time_mask]\n",
    "\n",
    "    # Линейная регрессия для deltaP и dP на ранних временах\n",
    "    slope_deltaP, intercept_deltaP, *_ = linregress(early_data['t'], early_data['deltaP'])\n",
    "    slope_dP, intercept_dP, *_ = linregress(early_data['t'], early_data['dP'])\n",
    "    \n",
    "    # Признаки для регрессии (коэффициент b)\n",
    "    vss_regression_features = {\n",
    "        'vss_intercept_deltaP': intercept_deltaP,\n",
    "        'vss_intercept_dP': intercept_dP,\n",
    "        'vss_residual_std': np.std(early_data['deltaP'] - (slope_deltaP * early_data['t'] + intercept_deltaP)),\n",
    "        'vss_integral': trapezoid(early_data['dP'], early_data['t'])\n",
    "    }\n",
    "    return vss_regression_features"
   ],
   "id": "6cdb2821efbf31f7",
   "outputs": [],
   "execution_count": 7
  },
  {
   "metadata": {
    "ExecuteTime": {
     "end_time": "2025-03-05T18:49:12.748654Z",
     "start_time": "2025-03-05T18:49:12.742673Z"
    }
   },
   "cell_type": "code",
   "source": [
    "def calculate_file_stats(dataframe):\n",
    "    \"\"\"Вычисление статистик для файлов.\"\"\"\n",
    "    stats = []\n",
    "    for file_name in dataframe['file_name']:\n",
    "        data = pd.read_csv(f'{DATA_FOLDER_PATH}/{file_name}', delimiter='\\t', names=['t', 'deltaP', 'dP'])\n",
    "        \n",
    "        # Базовые статистики\n",
    "        file_stats = {'file_name': file_name}\n",
    "        file_stats.update(calculate_base_stats(data))\n",
    "        file_stats.update(calculate_clf_stats_for_wa(data))\n",
    "        file_stats.update(calculate_reg_stats_for_wa(data))\n",
    "    \n",
    "        # Добавляем словарь в список\n",
    "        stats.append(file_stats)\n",
    "    \n",
    "    return pd.DataFrame(stats)"
   ],
   "id": "bdfa298e18710d74",
   "outputs": [],
   "execution_count": 8
  },
  {
   "cell_type": "code",
   "id": "initial_id",
   "metadata": {
    "collapsed": true,
    "ExecuteTime": {
     "end_time": "2025-03-05T18:49:12.774107Z",
     "start_time": "2025-03-05T18:49:12.763904Z"
    }
   },
   "source": [
    "def train_pipeline(data_path, binary_target, numeric_target):\n",
    "    \"\"\"Обучение моделей для бинарного и числового признаков.\"\"\"\n",
    "    data_csv = load_data(data_path)\n",
    "    work_file = preprocess_data(data_csv)\n",
    "    stats_by_file = calculate_file_stats(work_file)\n",
    "\n",
    "    # таргеты\n",
    "    stats_by_file[binary_target] = work_file[binary_target]\n",
    "    stats_by_file[numeric_target] = work_file[numeric_target]\n",
    "\n",
    "    # треним классификатора\n",
    "    X_clf = stats_by_file.drop(columns=[binary_target, numeric_target, 'file_name'])\n",
    "    y_clf = stats_by_file[binary_target]\n",
    "    X_train_clf, X_test_clf, y_train_clf, y_test_clf = train_test_split(X_clf, y_clf, test_size=0.2, random_state=42)\n",
    "\n",
    "    clf_model = RandomForestClassifier(random_state=42, max_depth=5, n_jobs=-1, class_weight='balanced', n_estimators=300, min_samples_split=10, min_samples_leaf=7)\n",
    "    clf_model.fit(X_train_clf, y_train_clf)\n",
    "\n",
    "    clf_metrics = {'train_accuracy': accuracy_score(y_train_clf, clf_model.predict(X_train_clf)),\n",
    "    'test_accuracy': accuracy_score(y_test_clf, clf_model.predict(X_test_clf)),\n",
    "    'train_b_accuracy': balanced_accuracy_score(y_train_clf, clf_model.predict(X_train_clf)),\n",
    "    'test_b_accuracy': balanced_accuracy_score(y_test_clf, clf_model.predict(X_test_clf)),\n",
    "    # 'feature_importances': dict(zip(X_train_clf.columns, clf_model.feature_importances_))\n",
    "                   }\n",
    "\n",
    "    # треним регрессора\n",
    "    regression_data = stats_by_file[stats_by_file[binary_target] == 1]\n",
    "    X_reg = regression_data.drop(columns=[binary_target, numeric_target, 'file_name'])\n",
    "    y_reg = regression_data[numeric_target]\n",
    "\n",
    "    reg_model = RandomForestRegressor(random_state=42, max_depth=5, n_jobs=-1)\n",
    "    if not X_reg.empty:\n",
    "        X_train_reg, X_test_reg, y_train_reg, y_test_reg = train_test_split(X_reg, y_reg, test_size=0.2,\n",
    "                                                                            random_state=42)\n",
    "        reg_model.fit(X_train_reg, y_train_reg)\n",
    "        \n",
    "        reg_metrics = {\n",
    "        'train_rmse': root_mean_squared_error(y_train_reg, reg_model.predict(X_train_reg)),\n",
    "        'test_rmse': root_mean_squared_error(y_test_reg, reg_model.predict(X_test_reg)),\n",
    "        'train_mape': mean_absolute_percentage_error(y_train_reg, reg_model.predict(X_train_reg)),\n",
    "        'test_mape': mean_absolute_percentage_error(y_test_reg, reg_model.predict(X_test_reg)),\n",
    "    }\n",
    "    else:\n",
    "        reg_model = None\n",
    "\n",
    "    return {\n",
    "        'binary_model': clf_model,\n",
    "        'regression_model': reg_model,\n",
    "        'stats_columns': X_clf.columns.tolist(),\n",
    "        'clf_metrics': clf_metrics,\n",
    "        'reg_metrics': reg_metrics\n",
    "    }"
   ],
   "outputs": [],
   "execution_count": 9
  },
  {
   "metadata": {
    "ExecuteTime": {
     "end_time": "2025-03-05T18:49:17.060997Z",
     "start_time": "2025-03-05T18:49:12.791422Z"
    }
   },
   "cell_type": "code",
   "source": [
    "DATA_PATH = 'hq_markup_train.csv'\n",
    "BINARY_TARGET = 'Влияние ствола скважины'\n",
    "NUMERIC_TARGET = 'Влияние ствола скважины_details'\n",
    "\n",
    "models = train_pipeline(DATA_PATH, BINARY_TARGET, NUMERIC_TARGET)"
   ],
   "id": "1ddda7f081748a15",
   "outputs": [],
   "execution_count": 10
  },
  {
   "metadata": {
    "ExecuteTime": {
     "end_time": "2025-03-05T18:49:17.086018Z",
     "start_time": "2025-03-05T18:49:17.076159Z"
    }
   },
   "cell_type": "code",
   "source": "models['clf_metrics']",
   "id": "b70123a418de8867",
   "outputs": [
    {
     "data": {
      "text/plain": [
       "{'train_accuracy': 0.92,\n",
       " 'test_accuracy': 0.79,\n",
       " 'train_b_accuracy': np.float64(0.8992148202674519),\n",
       " 'test_b_accuracy': np.float64(0.7807187955318116)}"
      ]
     },
     "execution_count": 11,
     "metadata": {},
     "output_type": "execute_result"
    }
   ],
   "execution_count": 11
  },
  {
   "metadata": {
    "ExecuteTime": {
     "end_time": "2025-03-05T18:49:17.183941Z",
     "start_time": "2025-03-05T18:49:17.177628Z"
    }
   },
   "cell_type": "code",
   "source": "models['reg_metrics']",
   "id": "85284aee55d981f1",
   "outputs": [
    {
     "data": {
      "text/plain": [
       "{'train_rmse': 0.2464063608551724,\n",
       " 'test_rmse': 0.5067024990313677,\n",
       " 'train_mape': 0.7842677704008773,\n",
       " 'test_mape': 0.3480459245032274}"
      ]
     },
     "execution_count": 12,
     "metadata": {},
     "output_type": "execute_result"
    }
   ],
   "execution_count": 12
  }
 ],
 "metadata": {
  "kernelspec": {
   "display_name": "Python 3",
   "language": "python",
   "name": "python3"
  },
  "language_info": {
   "codemirror_mode": {
    "name": "ipython",
    "version": 2
   },
   "file_extension": ".py",
   "mimetype": "text/x-python",
   "name": "python",
   "nbconvert_exporter": "python",
   "pygments_lexer": "ipython2",
   "version": "2.7.6"
  }
 },
 "nbformat": 4,
 "nbformat_minor": 5
}
