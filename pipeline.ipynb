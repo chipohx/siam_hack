{
 "cells": [
  {
   "metadata": {
    "ExecuteTime": {
     "end_time": "2025-03-04T16:23:40.596427Z",
     "start_time": "2025-03-04T16:23:40.581813Z"
    }
   },
   "cell_type": "code",
   "source": [
    "import warnings\n",
    "warnings.filterwarnings('ignore')"
   ],
   "id": "2ca03d5003c5ce9",
   "outputs": [],
   "execution_count": 3
  },
  {
   "cell_type": "code",
   "id": "initial_id",
   "metadata": {
    "collapsed": true,
    "ExecuteTime": {
     "end_time": "2025-03-04T16:38:23.466607Z",
     "start_time": "2025-03-04T16:38:23.390029Z"
    }
   },
   "source": [
    "import numpy as np\n",
    "import pandas as pd\n",
    "from scipy.integrate import trapezoid\n",
    "from scipy.stats import linregress\n",
    "from sklearn.model_selection import train_test_split\n",
    "from sklearn.ensemble import RandomForestRegressor, RandomForestClassifier\n",
    "from sklearn.metrics import (\n",
    "    accuracy_score, balanced_accuracy_score,\n",
    "    root_mean_squared_error, mean_absolute_percentage_error\n",
    ")\n",
    "\n",
    "DATA_FOLDER_PATH = 'data' # фолдер с временными рядами\n",
    "\n",
    "\n",
    "def load_data(data_path: str):\n",
    "    \"\"\"Загрузка данных из CSV файла.\"\"\"\n",
    "    return pd.read_csv(data_path)\n",
    "\n",
    "\n",
    "def preprocess_data(work_file):\n",
    "    \"\"\"Предобработка данных: удаление пустых или отсутствующих файлов.\"\"\"\n",
    "    indices_to_drop = []\n",
    "    for index, file_name in enumerate(work_file['file_name']):\n",
    "        try:\n",
    "            txt_file = pd.read_csv(f'{DATA_FOLDER_PATH}/{file_name}', delimiter='\\t', names=['t', 'delta_p', 'dp'])\n",
    "            if txt_file.empty:\n",
    "                indices_to_drop.append(index)\n",
    "        except (FileNotFoundError, pd.errors.EmptyDataError):\n",
    "            indices_to_drop.append(index)\n",
    "    return work_file.drop(indices_to_drop).reset_index(drop=True)\n",
    "\n",
    "\n",
    "def calculate_file_stats(dataframe):\n",
    "    \"\"\"Вычисление статистик для файлов.\"\"\"\n",
    "    stats = []\n",
    "    for file_name in dataframe['file_name']:\n",
    "        data = pd.read_csv(f'{DATA_FOLDER_PATH}/{file_name}', delimiter='\\t', names=['t', 'deltaP', 'dP'])\n",
    "        peak_idx = data[\"dP\"].idxmax()\n",
    "        stats.append({\n",
    "            'file_name': file_name,\n",
    "            'max_deltaP': data['deltaP'].max(),\n",
    "            'min_deltaP': data['deltaP'].min(),\n",
    "            'max_dP': data['dP'].max(),\n",
    "            'min_dP': data['dP'].min(),\n",
    "            'mean_deltaP': data['deltaP'].mean(),\n",
    "            'mean_dP': data['dP'].mean(),\n",
    "            'std_dP': data['dP'].std(),\n",
    "            'peak_time': data.loc[peak_idx, 't'],\n",
    "            'slope_dP_before_peak': linregress(data['t'][:peak_idx + 1], data[\"dP\"][:peak_idx + 1])[0],\n",
    "            'slope_dP_after_peak': linregress(data['t'][peak_idx:], data[\"dP\"][peak_idx:])[0],\n",
    "            'integral_dP': trapezoid(data[\"dP\"], data['t'])\n",
    "        })\n",
    "    return pd.DataFrame(stats)\n",
    "\n",
    "\n",
    "def train_pipeline(data_path, binary_target, numeric_target):\n",
    "    \"\"\"Обучение моделей для бинарного и числового признаков.\"\"\"\n",
    "    data_csv = load_data(data_path)\n",
    "    work_file = preprocess_data(data_csv)\n",
    "    stats_by_file = calculate_file_stats(work_file)\n",
    "\n",
    "    # таргеты\n",
    "    stats_by_file[binary_target] = work_file[binary_target]\n",
    "    stats_by_file[numeric_target] = work_file[numeric_target]\n",
    "\n",
    "    # треним классификатора\n",
    "    X_clf = stats_by_file.drop(columns=[binary_target, numeric_target, 'file_name'])\n",
    "    y_clf = stats_by_file[binary_target]\n",
    "    X_train_clf, X_test_clf, y_train_clf, y_test_clf = train_test_split(X_clf, y_clf, test_size=0.2, random_state=42)\n",
    "\n",
    "    clf_model = RandomForestClassifier(random_state=42, max_depth=5, n_jobs=-1, class_weight='balanced')\n",
    "    clf_model.fit(X_train_clf, y_train_clf)\n",
    "\n",
    "    clf_metrics = {'train_accuracy': accuracy_score(y_train_clf, clf_model.predict(X_train_clf)),\n",
    "    'test_accuracy': accuracy_score(y_test_clf, clf_model.predict(X_test_clf)),\n",
    "    'train_b_accuracy': balanced_accuracy_score(y_train_clf, clf_model.predict(X_train_clf)),\n",
    "    'test_b_accuracy': balanced_accuracy_score(y_test_clf, clf_model.predict(X_test_clf)),\n",
    "    # 'feature_importances': dict(zip(X_train_clf.columns, clf_model.feature_importances_))\n",
    "                   }\n",
    "\n",
    "    # треним регрессора\n",
    "    regression_data = stats_by_file[stats_by_file[binary_target] == 1]\n",
    "    X_reg = regression_data.drop(columns=[binary_target, numeric_target, 'file_name'])\n",
    "    y_reg = regression_data[numeric_target]\n",
    "\n",
    "    reg_model = RandomForestRegressor(random_state=42, max_depth=5, n_jobs=-1)\n",
    "    if not X_reg.empty:\n",
    "        X_train_reg, X_test_reg, y_train_reg, y_test_reg = train_test_split(X_reg, y_reg, test_size=0.2,\n",
    "                                                                            random_state=42)\n",
    "        reg_model.fit(X_train_reg, y_train_reg)\n",
    "        \n",
    "        reg_metrics = {\n",
    "        'train_rmse': root_mean_squared_error(y_train_reg, reg_model.predict(X_train_reg)),\n",
    "        'test_rmse': root_mean_squared_error(y_test_reg, reg_model.predict(X_test_reg)),\n",
    "        'train_mape': mean_absolute_percentage_error(y_train_reg, reg_model.predict(X_train_reg)),\n",
    "        'test_mape': mean_absolute_percentage_error(y_test_reg, reg_model.predict(X_test_reg)),\n",
    "    }\n",
    "    else:\n",
    "        reg_model = None\n",
    "\n",
    "    return {\n",
    "        'binary_model': clf_model,\n",
    "        'regression_model': reg_model,\n",
    "        'stats_columns': X_clf.columns.tolist(),\n",
    "        'clf_metrics': clf_metrics,\n",
    "        'reg_metrics': reg_metrics\n",
    "    }\n",
    "\n",
    "\n",
    "def predict_pipeline(models, data_path, binary_target, numeric_target):\n",
    "    \"\"\"Предсказание бинарных и числовых признаков.\"\"\"\n",
    "    new_data = load_data(data_path)\n",
    "    processed_data = preprocess_data(new_data)\n",
    "    stats = calculate_file_stats(processed_data)\n",
    "\n",
    "    # бин признак\n",
    "    X_clf = stats.drop(columns=['file_name'], errors='ignore')\n",
    "    binary_preds = models['binary_model'].predict(X_clf)\n",
    "\n",
    "    result_df = pd.DataFrame({\n",
    "        'file': processed_data['file_name'],\n",
    "        binary_target: binary_preds\n",
    "    })\n",
    "\n",
    "    # числовой признак\n",
    "    numeric_preds = np.full(len(result_df), np.nan)\n",
    "    if models['regression_model'] is not None:\n",
    "        mask = binary_preds == 1\n",
    "        if mask.any():\n",
    "            X_reg = stats[mask].drop(columns=['file_name'], errors='ignore')\n",
    "            numeric_preds[mask] = models['regression_model'].predict(X_reg)\n",
    "\n",
    "    result_df[numeric_target] = numeric_preds\n",
    "    return result_df"
   ],
   "outputs": [],
   "execution_count": 10
  },
  {
   "metadata": {
    "ExecuteTime": {
     "end_time": "2025-03-04T16:42:20.063708Z",
     "start_time": "2025-03-04T16:42:12.902451Z"
    }
   },
   "cell_type": "code",
   "source": [
    "DATA_PATH = 'hq_markup_train.csv'\n",
    "BINARY_TARGET = 'Линейный режим'\n",
    "NUMERIC_TARGET = 'Линейный режим_details'\n",
    "\n",
    "models = train_pipeline(DATA_PATH, BINARY_TARGET, NUMERIC_TARGET)\n",
    "\n",
    "predictions = predict_pipeline(models, DATA_PATH, BINARY_TARGET, NUMERIC_TARGET)"
   ],
   "id": "1ddda7f081748a15",
   "outputs": [],
   "execution_count": 14
  },
  {
   "metadata": {
    "ExecuteTime": {
     "end_time": "2025-03-04T16:43:16.058754Z",
     "start_time": "2025-03-04T16:43:16.048054Z"
    }
   },
   "cell_type": "code",
   "source": "models['clf_metrics']",
   "id": "b70123a418de8867",
   "outputs": [
    {
     "data": {
      "text/plain": [
       "{'train_accuracy': 0.83,\n",
       " 'test_accuracy': 0.73,\n",
       " 'train_b_accuracy': np.float64(0.8626034177535316),\n",
       " 'test_b_accuracy': np.float64(0.6485411140583555)}"
      ]
     },
     "execution_count": 16,
     "metadata": {},
     "output_type": "execute_result"
    }
   ],
   "execution_count": 16
  },
  {
   "metadata": {
    "ExecuteTime": {
     "end_time": "2025-03-04T16:43:40.018261Z",
     "start_time": "2025-03-04T16:43:40.010789Z"
    }
   },
   "cell_type": "code",
   "source": "models['reg_metrics']",
   "id": "85284aee55d981f1",
   "outputs": [
    {
     "data": {
      "text/plain": [
       "{'train_rmse': 0.22646365920211953,\n",
       " 'test_rmse': 0.3360334110313135,\n",
       " 'train_mape': 4.019804751771536,\n",
       " 'test_mape': 0.5362102182913818}"
      ]
     },
     "execution_count": 17,
     "metadata": {},
     "output_type": "execute_result"
    }
   ],
   "execution_count": 17
  },
  {
   "metadata": {
    "ExecuteTime": {
     "end_time": "2025-03-04T16:46:52.879989Z",
     "start_time": "2025-03-04T16:46:52.856045Z"
    }
   },
   "cell_type": "code",
   "source": "predictions",
   "id": "5c0e180277f7fbaa",
   "outputs": [
    {
     "data": {
      "text/plain": [
       "                                     file  Линейный режим  \\\n",
       "0    e9c7e07f-b723-4da3-918e-7dbcb360c830               0   \n",
       "1    726565c9-e05b-4a28-9079-22d94f9bb9e2               1   \n",
       "2    c2a4d43d-5a93-4c37-81b6-d4fdc5b0280b               0   \n",
       "3    15e04219-9fa0-401d-8b42-833b71ccafb3               0   \n",
       "4    d43f459d-97fa-4ab0-bacc-43e2cb73e1b9               1   \n",
       "..                                    ...             ...   \n",
       "495  a0448188-be5d-4ad6-929f-1870710e224b               0   \n",
       "496  c295e7be-009c-4893-94c0-194d449077ed               0   \n",
       "497  ac06114e-e466-497a-a0b7-5166d784140e               1   \n",
       "498  0fd9d92c-a6d6-44c2-80b2-7f3cfcbea3da               0   \n",
       "499  b145d37a-2b67-47e1-b4d4-a70a59192187               1   \n",
       "\n",
       "     Линейный режим_details  \n",
       "0                       NaN  \n",
       "1                  1.005519  \n",
       "2                       NaN  \n",
       "3                       NaN  \n",
       "4                  0.412346  \n",
       "..                      ...  \n",
       "495                     NaN  \n",
       "496                     NaN  \n",
       "497                0.017599  \n",
       "498                     NaN  \n",
       "499                0.342223  \n",
       "\n",
       "[500 rows x 3 columns]"
      ],
      "text/html": [
       "<div>\n",
       "<style scoped>\n",
       "    .dataframe tbody tr th:only-of-type {\n",
       "        vertical-align: middle;\n",
       "    }\n",
       "\n",
       "    .dataframe tbody tr th {\n",
       "        vertical-align: top;\n",
       "    }\n",
       "\n",
       "    .dataframe thead th {\n",
       "        text-align: right;\n",
       "    }\n",
       "</style>\n",
       "<table border=\"1\" class=\"dataframe\">\n",
       "  <thead>\n",
       "    <tr style=\"text-align: right;\">\n",
       "      <th></th>\n",
       "      <th>file</th>\n",
       "      <th>Линейный режим</th>\n",
       "      <th>Линейный режим_details</th>\n",
       "    </tr>\n",
       "  </thead>\n",
       "  <tbody>\n",
       "    <tr>\n",
       "      <th>0</th>\n",
       "      <td>e9c7e07f-b723-4da3-918e-7dbcb360c830</td>\n",
       "      <td>0</td>\n",
       "      <td>NaN</td>\n",
       "    </tr>\n",
       "    <tr>\n",
       "      <th>1</th>\n",
       "      <td>726565c9-e05b-4a28-9079-22d94f9bb9e2</td>\n",
       "      <td>1</td>\n",
       "      <td>1.005519</td>\n",
       "    </tr>\n",
       "    <tr>\n",
       "      <th>2</th>\n",
       "      <td>c2a4d43d-5a93-4c37-81b6-d4fdc5b0280b</td>\n",
       "      <td>0</td>\n",
       "      <td>NaN</td>\n",
       "    </tr>\n",
       "    <tr>\n",
       "      <th>3</th>\n",
       "      <td>15e04219-9fa0-401d-8b42-833b71ccafb3</td>\n",
       "      <td>0</td>\n",
       "      <td>NaN</td>\n",
       "    </tr>\n",
       "    <tr>\n",
       "      <th>4</th>\n",
       "      <td>d43f459d-97fa-4ab0-bacc-43e2cb73e1b9</td>\n",
       "      <td>1</td>\n",
       "      <td>0.412346</td>\n",
       "    </tr>\n",
       "    <tr>\n",
       "      <th>...</th>\n",
       "      <td>...</td>\n",
       "      <td>...</td>\n",
       "      <td>...</td>\n",
       "    </tr>\n",
       "    <tr>\n",
       "      <th>495</th>\n",
       "      <td>a0448188-be5d-4ad6-929f-1870710e224b</td>\n",
       "      <td>0</td>\n",
       "      <td>NaN</td>\n",
       "    </tr>\n",
       "    <tr>\n",
       "      <th>496</th>\n",
       "      <td>c295e7be-009c-4893-94c0-194d449077ed</td>\n",
       "      <td>0</td>\n",
       "      <td>NaN</td>\n",
       "    </tr>\n",
       "    <tr>\n",
       "      <th>497</th>\n",
       "      <td>ac06114e-e466-497a-a0b7-5166d784140e</td>\n",
       "      <td>1</td>\n",
       "      <td>0.017599</td>\n",
       "    </tr>\n",
       "    <tr>\n",
       "      <th>498</th>\n",
       "      <td>0fd9d92c-a6d6-44c2-80b2-7f3cfcbea3da</td>\n",
       "      <td>0</td>\n",
       "      <td>NaN</td>\n",
       "    </tr>\n",
       "    <tr>\n",
       "      <th>499</th>\n",
       "      <td>b145d37a-2b67-47e1-b4d4-a70a59192187</td>\n",
       "      <td>1</td>\n",
       "      <td>0.342223</td>\n",
       "    </tr>\n",
       "  </tbody>\n",
       "</table>\n",
       "<p>500 rows × 3 columns</p>\n",
       "</div>"
      ]
     },
     "execution_count": 18,
     "metadata": {},
     "output_type": "execute_result"
    }
   ],
   "execution_count": 18
  },
  {
   "metadata": {},
   "cell_type": "code",
   "outputs": [],
   "execution_count": null,
   "source": "",
   "id": "cc170f72b575439d"
  }
 ],
 "metadata": {
  "kernelspec": {
   "display_name": "Python 3",
   "language": "python",
   "name": "python3"
  },
  "language_info": {
   "codemirror_mode": {
    "name": "ipython",
    "version": 2
   },
   "file_extension": ".py",
   "mimetype": "text/x-python",
   "name": "python",
   "nbconvert_exporter": "python",
   "pygments_lexer": "ipython2",
   "version": "2.7.6"
  }
 },
 "nbformat": 4,
 "nbformat_minor": 5
}
