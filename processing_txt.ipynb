{
 "cells": [
  {
   "metadata": {
    "ExecuteTime": {
     "end_time": "2025-03-03T16:47:35.892212Z",
     "start_time": "2025-03-03T16:47:35.887818Z"
    }
   },
   "cell_type": "code",
   "source": [
    "import numpy as np\n",
    "import pandas as pd\n",
    "from scipy.integrate import cumulative_trapezoid"
   ],
   "id": "d24dd9c7c0307bd2",
   "outputs": [],
   "execution_count": 26
  },
  {
   "metadata": {
    "ExecuteTime": {
     "end_time": "2025-03-03T16:47:37.325134Z",
     "start_time": "2025-03-03T16:47:37.198271Z"
    }
   },
   "cell_type": "code",
   "source": [
    "data_csv = pd.read_csv(\"hq_markup_train.csv\")\n",
    "bq_data_csv = pd.read_csv(\"markup_train.csv\")"
   ],
   "id": "4069d4ed003554a1",
   "outputs": [],
   "execution_count": 27
  },
  {
   "metadata": {},
   "cell_type": "markdown",
   "source": "На всякий случай проверка на пустые ряды",
   "id": "2f1ad31a99c8283e"
  },
  {
   "metadata": {
    "ExecuteTime": {
     "end_time": "2025-03-03T16:11:46.496646Z",
     "start_time": "2025-03-03T16:10:16.642882Z"
    }
   },
   "cell_type": "code",
   "source": [
    "blank = 0\n",
    "blank_t = 0\n",
    "blank_delta_p = 0\n",
    "blank_dp = 0\n",
    "blank_t_and_delta_p = 0\n",
    "blank_t_and_dp = 0\n",
    "blank_delta_p_and_dp = 0\n",
    "\n",
    "for file_name in bq_data_csv['file_name']:\n",
    "    try:\n",
    "        txt_file = pd.read_csv(f'data/{file_name}', delimiter='\\t', names=['t', 'delta_p', 'dp'])\n",
    "\n",
    "    except Exception as e:\n",
    "        print(f\"Ошибка при загрузке файла {file_name}: {e}\")\n",
    "        continue\n",
    "\n",
    "    if len(txt_file) == 0:\n",
    "        blank += 1\n",
    "        continue\n",
    "\n",
    "    txt_file = pd.DataFrame(txt_file)\n",
    "\n",
    "    if txt_file.shape[1] < 3:\n",
    "        print(f\"Файл {file_name} содержит менее трех столбцов.\")\n",
    "        continue\n",
    "\n",
    "    # Проверка на пустые столбцы\n",
    "    is_t_empty = txt_file['t'].isna().all() or (txt_file['t'] == 0).all()\n",
    "    is_delta_p_empty = txt_file['delta_p'].isna().all() or (txt_file['delta_p'] == 0).all()\n",
    "    is_dp_empty = txt_file['dp'].isna().all() or (txt_file['dp'] == 0).all()\n",
    "\n",
    "    # Подсчет пустых столбцов\n",
    "    if is_t_empty:\n",
    "        blank_t += 1\n",
    "    if is_delta_p_empty:\n",
    "        blank_delta_p += 1\n",
    "    if is_dp_empty:\n",
    "        blank_dp += 1\n",
    "\n",
    "    # Подсчет комбинаций пустых столбцов\n",
    "    if is_t_empty and is_delta_p_empty:\n",
    "        blank_t_and_delta_p += 1\n",
    "    if is_t_empty and is_dp_empty:\n",
    "        blank_t_and_dp += 1\n",
    "    if is_delta_p_empty and is_dp_empty:\n",
    "        blank_delta_p_and_dp += 1\n",
    "\n",
    "print(f\"Пустых файлов: {blank}\")\n",
    "print(f\"Пустых столбцов t: {blank_t}\")\n",
    "print(f\"Пустых столбцов delta_p: {blank_delta_p}\")\n",
    "print(f\"Пустых столбцов dp: {blank_dp}\")\n",
    "print(f\"Пустых t и delta_p: {blank_t_and_delta_p}\")\n",
    "print(f\"Пустых t и dp: {blank_t_and_dp}\")\n",
    "print(f\"Пустых delta_p и dp: {blank_delta_p_and_dp}\")"
   ],
   "id": "8e53f90004c2a93",
   "outputs": [
    {
     "name": "stdout",
     "output_type": "stream",
     "text": [
      "Пустых файлов: 257\n",
      "Пустых столбцов t: 0\n",
      "Пустых столбцов delta_p: 0\n",
      "Пустых столбцов dp: 0\n",
      "Пустых t и delta_p: 0\n",
      "Пустых t и dp: 0\n",
      "Пустых delta_p и dp: 0\n"
     ]
    }
   ],
   "execution_count": 22
  },
  {
   "metadata": {
    "ExecuteTime": {
     "end_time": "2025-03-03T16:49:29.162960Z",
     "start_time": "2025-03-03T16:48:35.362946Z"
    }
   },
   "cell_type": "code",
   "source": [
    "indices_to_drop = []\n",
    "print(bq_data_csv.shape)\n",
    "\n",
    "for index, file_name in enumerate(bq_data_csv['file_name']):\n",
    "    txt_file = pd.read_csv(f'data/{file_name}', delimiter='\\t', names=['t', 'delta_p', 'dp'])\n",
    "    if len(txt_file) == 0:\n",
    "        indices_to_drop.append(index)\n",
    "\n",
    "bq_data_csv = bq_data_csv.drop(indices_to_drop).reset_index(drop=True)\n",
    "bq_data_csv.shape"
   ],
   "id": "7f84e2be17100a96",
   "outputs": [
    {
     "name": "stdout",
     "output_type": "stream",
     "text": [
      "(45141, 18)\n"
     ]
    },
    {
     "data": {
      "text/plain": [
       "(44884, 18)"
      ]
     },
     "execution_count": 29,
     "metadata": {},
     "output_type": "execute_result"
    }
   ],
   "execution_count": 29
  },
  {
   "metadata": {
    "ExecuteTime": {
     "end_time": "2025-03-03T16:49:29.194735Z",
     "start_time": "2025-03-03T16:49:29.187015Z"
    }
   },
   "cell_type": "code",
   "source": [
    "def smooth(y, window_size):\n",
    "    \"\"\"Сглаживание данных методом скользящего среднего\"\"\"\n",
    "    if window_size <= 1:\n",
    "        return y\n",
    "    window = np.ones(window_size) / window_size\n",
    "    return np.convolve(y, window, mode='same')"
   ],
   "id": "b7dd09efc77debb4",
   "outputs": [],
   "execution_count": 30
  },
  {
   "metadata": {},
   "cell_type": "markdown",
   "source": "Хз, правильно ли работает окно, код от чатгпт",
   "id": "ded40818155d256d"
  },
  {
   "metadata": {
    "ExecuteTime": {
     "end_time": "2025-03-03T16:49:58.200173Z",
     "start_time": "2025-03-03T16:49:58.191108Z"
    }
   },
   "cell_type": "code",
   "source": [
    "def process_file(file_path):\n",
    "    data = pd.read_csv(f'data/{file_name}', delimiter='\\t', names=['t', 'deltaP', 'dP'])\n",
    "    if data.size == 0:\n",
    "        return None  # Пропускаем пустые файлы\n",
    "    \n",
    "    t = data['t']\n",
    "    delta_p = data['deltaP']\n",
    "    dp = data['dP']\n",
    "\n",
    "    # Вычисление размера окна для сглаживания\n",
    "    n_points = len(t) if t is not None else len(data)\n",
    "    window_size = int(0.5 * np.log10(n_points))  # 0.5 лог-цикла\n",
    "    window_size = max(1, window_size)  # Минимум 1 точка\n",
    "\n",
    "    # Сглаживание имеющихся данных\n",
    "    if delta_p is not None:\n",
    "        delta_p = smooth(delta_p, window_size)\n",
    "    if dp is not None:\n",
    "        dp = smooth(dp, window_size)\n",
    "    \n",
    "    # Сборка результата\n",
    "    processed_data = []\n",
    "    if t is not None:\n",
    "        processed_data.append(t)\n",
    "    if delta_p is not None:\n",
    "        processed_data.append(delta_p)\n",
    "    if dp is not None:\n",
    "        processed_data.append(dp)\n",
    "    \n",
    "    return np.column_stack(processed_data) if processed_data else None"
   ],
   "id": "3839a8f2299eff23",
   "outputs": [],
   "execution_count": 33
  },
  {
   "cell_type": "code",
   "id": "initial_id",
   "metadata": {
    "collapsed": true,
    "ExecuteTime": {
     "end_time": "2025-03-03T16:54:57.614525Z",
     "start_time": "2025-03-03T16:49:59.670771Z"
    }
   },
   "source": [
    "for file_name in bq_data_csv['file_name']:\n",
    "    input_path = f\"data/{file_name}\"\n",
    "    output_path = f\"processed_data/{file_name}\"\n",
    "    \n",
    "    result = process_file(input_path)\n",
    "    if result is not None:\n",
    "        np.savetxt(output_path, result)\n",
    "    else:\n",
    "        print(f\"Ошибка обработки файла: {file_name}\")"
   ],
   "outputs": [],
   "execution_count": 34
  },
  {
   "metadata": {},
   "cell_type": "code",
   "outputs": [],
   "execution_count": null,
   "source": "",
   "id": "9466da2b2f21a24b"
  }
 ],
 "metadata": {
  "kernelspec": {
   "display_name": "Python 3",
   "language": "python",
   "name": "python3"
  },
  "language_info": {
   "codemirror_mode": {
    "name": "ipython",
    "version": 2
   },
   "file_extension": ".py",
   "mimetype": "text/x-python",
   "name": "python",
   "nbconvert_exporter": "python",
   "pygments_lexer": "ipython2",
   "version": "2.7.6"
  }
 },
 "nbformat": 4,
 "nbformat_minor": 5
}
