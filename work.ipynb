{
 "cells": [
  {
   "cell_type": "code",
   "metadata": {
    "ExecuteTime": {
     "end_time": "2025-03-03T16:36:05.655436Z",
     "start_time": "2025-03-03T16:36:05.651238Z"
    }
   },
   "source": [
    "import numpy as np\n",
    "import pandas as pd\n",
    "from scipy.integrate import trapezoid\n",
    "from scipy.optimize import curve_fit\n",
    "from scipy.stats import linregress"
   ],
   "outputs": [],
   "execution_count": 39
  },
  {
   "cell_type": "code",
   "metadata": {
    "ExecuteTime": {
     "end_time": "2025-03-03T16:36:05.802227Z",
     "start_time": "2025-03-03T16:36:05.682693Z"
    }
   },
   "source": [
    "data_csv = pd.read_csv(\"hq_markup_train.csv\")\n",
    "bq_data_csv = pd.read_csv(\"markup_train.csv\")\n",
    "# data_csv"
   ],
   "outputs": [],
   "execution_count": 40
  },
  {
   "metadata": {},
   "cell_type": "code",
   "source": "bq_data_csv.isna().sum()",
   "outputs": [],
   "execution_count": null
  },
  {
   "cell_type": "code",
   "metadata": {
    "ExecuteTime": {
     "end_time": "2025-03-03T16:36:05.986241Z",
     "start_time": "2025-03-03T16:36:05.968692Z"
    }
   },
   "source": [
    "import numpy as np\n",
    "import pandas as pd\n",
    "from scipy.stats import linregress\n",
    "from scipy.integrate import trapezoid\n",
    "\n",
    "def calculate_file_stats(data_csv: pd.DataFrame) -> pd.DataFrame:\n",
    "    \"\"\"\n",
    "    Вычисляет статистические характеристики для каждого файла.\n",
    "\n",
    "    Параметры:\n",
    "    ----------\n",
    "    data_csv : pandas.DataFrame\n",
    "        DataFrame, содержащий столбец 'file_name' с именами файлов, которые нужно обработать.\n",
    "\n",
    "    Возвращает:\n",
    "    ----------\n",
    "    stats_by_file : pandas.DataFrame\n",
    "        DataFrame, содержащий статистические характеристики для каждого файла. Включает следующие столбцы:\n",
    "        - file_name: имя файла\n",
    "        - max_deltaP: максимальное значение deltaP\n",
    "        - min_deltaP: минимальное значение deltaP\n",
    "        - max_dP: максимальное значение dP\n",
    "        - min_dP: минимальное значение dP\n",
    "        - mean_deltaP: среднее значение deltaP\n",
    "        - mean_dP: среднее значение dP\n",
    "        - std_dP: стандартное отклонение dP\n",
    "        - peak_time: время пика dP\n",
    "        - slope_dP_before_peak: наклон dP до пика\n",
    "        - slope_dP_after_peak: наклон dP после пика\n",
    "        - integral_dP: интеграл dP по времени\n",
    "    \"\"\"\n",
    "    # пустой DataFrame для хранения статистики\n",
    "    stats_by_file = pd.DataFrame(columns=[\n",
    "        'file_name',\n",
    "        'max_deltaP',\n",
    "        'min_deltaP',\n",
    "        'max_dP',\n",
    "        'min_dP',\n",
    "        'mean_deltaP',\n",
    "        'mean_dP',\n",
    "        'std_dP',\n",
    "        'peak_time',\n",
    "        'slope_dP_before_peak',\n",
    "        'slope_dP_after_peak',\n",
    "        'integral_dP'\n",
    "    ])\n",
    "\n",
    "    for file_name in data_csv['file_name']:\n",
    "        \n",
    "        data = pd.read_csv(f'data/{file_name}', delimiter='\\t', names=['t', 'deltaP', 'dP'])\n",
    "        \n",
    "        max_deltaP = data['deltaP'].max()\n",
    "        min_deltaP = data['deltaP'].min()\n",
    "        max_dP = data['dP'].max()\n",
    "        min_dP = data['dP'].min()\n",
    "        mean_deltaP = data['deltaP'].mean()\n",
    "        mean_dP = data['dP'].mean()\n",
    "        std_dP = data['dP'].std()\n",
    "\n",
    "        peak_idx = data[\"dP\"].idxmax()\n",
    "        peak_time = data.loc[peak_idx, 't']\n",
    "\n",
    "        slope_before, *_ = linregress(data['t'][:peak_idx+1], data[\"dP\"][:peak_idx+1])\n",
    "        slope_after, *_ = linregress(data['t'][peak_idx:], data[\"dP\"][peak_idx:])\n",
    "        slope_dP_before_peak = slope_before\n",
    "        slope_dP_after_peak = slope_after\n",
    "\n",
    "        integral_dP = trapezoid(data[\"dP\"], data['t'])\n",
    "\n",
    "        features_dict = {\n",
    "            'file_name': file_name,\n",
    "            'max_deltaP': max_deltaP,\n",
    "            'min_deltaP': min_deltaP,\n",
    "            'max_dP': max_dP,\n",
    "            'min_dP': min_dP,\n",
    "            'mean_deltaP': mean_deltaP,\n",
    "            'mean_dP': mean_dP,\n",
    "            'std_dP': std_dP,\n",
    "            'peak_time': peak_time,\n",
    "            'slope_dP_before_peak': slope_dP_before_peak,\n",
    "            'slope_dP_after_peak': slope_dP_after_peak,\n",
    "            'integral_dP': integral_dP\n",
    "        }\n",
    "\n",
    "        features_df = pd.DataFrame([features_dict])\n",
    "        stats_by_file = pd.concat([stats_by_file, features_df], ignore_index=True)\n",
    "\n",
    "    return stats_by_file"
   ],
   "outputs": [],
   "execution_count": 42
  },
  {
   "metadata": {},
   "cell_type": "markdown",
   "source": "Удалим все строки, которые указывают на пустой файл"
  },
  {
   "metadata": {
    "ExecuteTime": {
     "end_time": "2025-03-03T16:36:57.432505Z",
     "start_time": "2025-03-03T16:36:06.069976Z"
    }
   },
   "cell_type": "code",
   "source": [
    "indices_to_drop = []\n",
    "print(bq_data_csv.shape)\n",
    "\n",
    "for index, file_name in enumerate(bq_data_csv['file_name']):\n",
    "    txt_file = pd.read_csv(f'data/{file_name}', delimiter='\\t', names=['t', 'delta_p', 'dp'])\n",
    "    if len(txt_file) == 0:\n",
    "        indices_to_drop.append(index)\n",
    "\n",
    "bq_data_csv = bq_data_csv.drop(indices_to_drop).reset_index(drop=True)\n",
    "bq_data_csv.shape"
   ],
   "outputs": [
    {
     "name": "stdout",
     "output_type": "stream",
     "text": [
      "(45141, 18)\n"
     ]
    },
    {
     "data": {
      "text/plain": [
       "(44884, 18)"
      ]
     },
     "execution_count": 43,
     "metadata": {},
     "output_type": "execute_result"
    }
   ],
   "execution_count": 43
  },
  {
   "metadata": {},
   "cell_type": "code",
   "source": "stats_by_file = calculate_file_stats(bq_data_csv)",
   "outputs": [],
   "execution_count": null
  },
  {
   "cell_type": "code",
   "metadata": {
    "ExecuteTime": {
     "end_time": "2025-03-03T16:42:41.661785Z",
     "start_time": "2025-03-03T16:42:41.657427Z"
    }
   },
   "source": [
    "col_name = 'Билинейный режим'\n",
    "stats_by_file[col_name] = bq_data_csv[col_name]"
   ],
   "outputs": [],
   "execution_count": 49
  },
  {
   "cell_type": "code",
   "metadata": {
    "ExecuteTime": {
     "end_time": "2025-03-03T16:42:44.709053Z",
     "start_time": "2025-03-03T16:42:44.690268Z"
    }
   },
   "source": [
    "from sklearn.model_selection import train_test_split\n",
    "X = stats_by_file.drop(columns=[col_name, 'file_name'])\n",
    "y = stats_by_file[col_name]\n",
    "X_train, X_test, y_train, y_test = train_test_split(X, y, test_size=0.2, random_state=42)"
   ],
   "outputs": [],
   "execution_count": 50
  },
  {
   "cell_type": "code",
   "metadata": {
    "ExecuteTime": {
     "end_time": "2025-03-03T16:42:50.513078Z",
     "start_time": "2025-03-03T16:42:47.122005Z"
    }
   },
   "source": [
    "from sklearn.metrics import accuracy_score\n",
    "from sklearn.ensemble import RandomForestClassifier\n",
    "model = RandomForestClassifier(random_state=42, n_jobs=-1, max_depth=5, class_weight='balanced')\n",
    "\n",
    "model.fit(X_train, y_train)\n",
    "\n",
    "y_pred = model.predict(X_test)\n",
    "\n",
    "print(f'train: {accuracy_score(y_train, model.predict(X_train))}')\n",
    "print(f'test: {accuracy_score(y_test, model.predict(X_test))}')"
   ],
   "outputs": [
    {
     "name": "stdout",
     "output_type": "stream",
     "text": [
      "train: 0.7045701395271117\n",
      "test: 0.7051353458839256\n"
     ]
    }
   ],
   "execution_count": 51
  },
  {
   "cell_type": "code",
   "metadata": {
    "ExecuteTime": {
     "end_time": "2025-03-03T16:42:54.689868Z",
     "start_time": "2025-03-03T16:42:54.642576Z"
    }
   },
   "source": [
    "model.feature_importances_"
   ],
   "outputs": [
    {
     "data": {
      "text/plain": [
       "array([0.03567306, 0.00876578, 0.02798169, 0.10144522, 0.02677408,\n",
       "       0.02498522, 0.04231277, 0.28681263, 0.17584086, 0.1777885 ,\n",
       "       0.09162018])"
      ]
     },
     "execution_count": 52,
     "metadata": {},
     "output_type": "execute_result"
    }
   ],
   "execution_count": 52
  }
 ],
 "metadata": {
  "kernelspec": {
   "display_name": "Python 3",
   "language": "python",
   "name": "python3"
  },
  "language_info": {
   "codemirror_mode": {
    "name": "ipython",
    "version": 3
   },
   "file_extension": ".py",
   "mimetype": "text/x-python",
   "name": "python",
   "nbconvert_exporter": "python",
   "pygments_lexer": "ipython3",
   "version": "3.13.0"
  }
 },
 "nbformat": 4,
 "nbformat_minor": 2
}
